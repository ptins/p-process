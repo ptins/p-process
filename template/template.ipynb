{
 "cells": [
  {
   "cell_type": "markdown",
   "metadata": {},
   "source": [
    "# Imports"
   ]
  },
  {
   "cell_type": "code",
   "execution_count": null,
   "metadata": {},
   "outputs": [],
   "source": [
    "import os, glob\n",
    "import numpy as np\n",
    "import pandas as pd\n",
    "\n",
    "import math\n",
    "import itertools\n",
    "\n",
    "import matplotlib as mpl\n",
    "import matplotlib.pyplot as plt"
   ]
  },
  {
   "cell_type": "markdown",
   "metadata": {},
   "source": [
    "# Functions"
   ]
  },
  {
   "cell_type": "code",
   "execution_count": null,
   "metadata": {},
   "outputs": [],
   "source": [
    "def style_plot():\n",
    "    mpl.rcParams['lines.linewidth'] = .85\n",
    "    plt.style.use('seaborn-whitegrid')\n",
    "    plt.rcParams['figure.figsize'] = (30,15)"
   ]
  },
  {
   "cell_type": "code",
   "execution_count": null,
   "metadata": {},
   "outputs": [],
   "source": [
    "def get_kadonis_df(filename):\n",
    "    # open kadonis file\n",
    "    f = open(filename,'r')\n",
    "    # read lines and close\n",
    "    lines = f.read().splitlines()\n",
    "    f.close()\n",
    "    # strip out lines we want\n",
    "    lines_imp = lines[19:]\n",
    "    x = [line.split() for line in lines_imp]\n",
    "    # get column labels, column data\n",
    "    headers = x[0]\n",
    "    data = x[2:]\n",
    "    # convert to df\n",
    "    df = pd.DataFrame(data, columns=headers)\n",
    "    # make numeric\n",
    "    ene  = pd.to_numeric(df['E(c.m.)'])\n",
    "    cs_true = pd.to_numeric(df['CS'])        \n",
    "    cs_err  = pd.to_numeric(df['ErrCS'], errors='coerce')\n",
    "    # check to make sure error bars are there\n",
    "    if(math.isnan(cs_err[0])):\n",
    "        cs_err = pd.Series([0 for x in cs_err])\n",
    "        print('\\n\\n\\nTHE DATA IN FILE {} DID NOT INCLUDE ERROR BARS.\\n\\n\\n'.format(filename))\n",
    "    # new df  \n",
    "    df_new  = pd.DataFrame([ene, cs_true, cs_err]).transpose()\n",
    "    df_new.columns = ['ene', 'cs_kadonis', 'cs_err']\n",
    "    df_new = df_new.sort_values('ene', ascending=True)\n",
    "    return(df_new)"
   ]
  },
  {
   "cell_type": "code",
   "execution_count": null,
   "metadata": {},
   "outputs": [],
   "source": [
    "def get_talys_df(filename):\n",
    "    f = open(filename,'r')\n",
    "    # read lines and close\n",
    "    lines = f.read().splitlines()\n",
    "    f.close()\n",
    "    # strip out lines we want\n",
    "    lines_imp = lines[5:]\n",
    "    x = [line.strip().split(' ') for line in lines_imp]\n",
    "    df = pd.DataFrame(x)\n",
    "    df.columns = ['ene','cs']\n",
    "    # make numeric \n",
    "    df  = pd.DataFrame([pd.to_numeric(df['ene']),\n",
    "                        # convert millibarns\n",
    "                        pd.to_numeric(df['cs'])/1000]).transpose()\n",
    "    return(df)"
   ]
  },
  {
   "cell_type": "code",
   "execution_count": null,
   "metadata": {},
   "outputs": [],
   "source": [
    "### CHANGE THIS CELL ONLY IF YOU CHANGE THE NAME OF THE NOTEBOOK\n",
    "def clean_files():\n",
    "    # clean file system\n",
    "    ### WHERE YOU SEE 'template.ipynb', ENTER THE NEW NAME OF THE NOTEBOOK\n",
    "    keeping = [ag_talys_file, an_talys_file, 'output', 'total.tot', 'template.ipynb','input']\n",
    "    files = [f for f in os.listdir('.') if os.path.isfile(f)]\n",
    "    for f in files:\n",
    "        if(f not in keeping):\n",
    "            os.remove(f)\n",
    "    print('Done --- File system clean.')"
   ]
  },
  {
   "cell_type": "markdown",
   "metadata": {},
   "source": [
    "# Kadonis Portion"
   ]
  },
  {
   "cell_type": "code",
   "execution_count": null,
   "metadata": {},
   "outputs": [],
   "source": [
    "### CHANGE THIS CELL\n",
    "# read in files\n",
    "ag_kad_file = './kad_files/XXXXXXXXXXXXXX'\n",
    "an_kad_file = './kad_files/XXXXXXXXXXXXXX'"
   ]
  },
  {
   "cell_type": "code",
   "execution_count": null,
   "metadata": {},
   "outputs": [],
   "source": [
    "# read in kadonis data into kad df's\n",
    "ag_kad_df = get_kadonis_df(ag_kad_file)\n",
    "an_kad_df = get_kadonis_df(an_kad_file)"
   ]
  },
  {
   "cell_type": "code",
   "execution_count": null,
   "metadata": {},
   "outputs": [],
   "source": [
    "# check data in df\n",
    "print(ag_kad_df)\n",
    "print(an_kad_df)"
   ]
  },
  {
   "cell_type": "markdown",
   "metadata": {},
   "source": [
    "## Alpha-Gamma Kadonis Plot"
   ]
  },
  {
   "cell_type": "code",
   "execution_count": null,
   "metadata": {},
   "outputs": [],
   "source": [
    "style_plot()\n",
    "plt.yscale('log')\n",
    "plt.errorbar(ag_kad_df.ene, ag_kad_df['cs_kadonis'], yerr=ag_kad_df['cs_err'])"
   ]
  },
  {
   "cell_type": "markdown",
   "metadata": {},
   "source": [
    "## Alpha-N Kadonis Plot"
   ]
  },
  {
   "cell_type": "code",
   "execution_count": null,
   "metadata": {},
   "outputs": [],
   "source": [
    "style_plot()\n",
    "plt.yscale('log')\n",
    "plt.errorbar(an_kad_df.ene, an_kad_df['cs_kadonis'], yerr=an_kad_df['cs_err'])"
   ]
  },
  {
   "cell_type": "markdown",
   "metadata": {},
   "source": [
    "# Talys Portion"
   ]
  },
  {
   "cell_type": "code",
   "execution_count": null,
   "metadata": {},
   "outputs": [],
   "source": [
    "### CHANGE THIS CELL\n",
    "# general parameters\n",
    "symbol = 'xx'\n",
    "mass = XXX\n",
    "z = XXX"
   ]
  },
  {
   "cell_type": "code",
   "execution_count": null,
   "metadata": {},
   "outputs": [],
   "source": [
    "# write energies file\n",
    "ene_kad = []\n",
    "[ene_kad.append(round(ene,4)) for ene in ag_kad_df['ene']]\n",
    "[ene_kad.append(round(ene,4)) for ene in an_kad_df['ene']]\n",
    "ene_kad = sorted(list(set(ene_kad)))\n",
    "print(ene_kad)\n",
    "\n",
    "f = open('energies','w')\n",
    "[f.write(str(ene)+'\\n') for ene in ene_kad]\n",
    "f.close()"
   ]
  },
  {
   "cell_type": "code",
   "execution_count": null,
   "metadata": {},
   "outputs": [],
   "source": [
    "# specify files to keep (still needs work)\n",
    "if(z+2 < 100):\n",
    "    pref = '0'+str(z+2)\n",
    "else:\n",
    "    pref = str(z+2)\n",
    "ag_talys_file = 'rp'+pref+str(mass+4)+'.tot'\n",
    "an_talys_file = 'rp'+pref+str(mass+3)+'.tot'"
   ]
  },
  {
   "cell_type": "code",
   "execution_count": null,
   "metadata": {},
   "outputs": [],
   "source": [
    "# sanity check\n",
    "print('Alpha-Gamma TALYS File:\\n{}\\nAlpha-N TALYS File:\\n{}'.format(ag_talys_file, an_talys_file))"
   ]
  },
  {
   "cell_type": "code",
   "execution_count": null,
   "metadata": {},
   "outputs": [],
   "source": [
    "# global models\n",
    "ldmodel_glob = [1,2,3]\n",
    "strength_glob = [1,2]\n",
    "alphaomp_glob = [1,2,6,7,8]\n",
    "\n",
    "# microscopic models\n",
    "ldmodel_micro = [4,5,6]\n",
    "strength_micro = [3,4,5,6,7,8]\n",
    "alphaomp_micro = [3,4,5]\n",
    "\n",
    "# all models\n",
    "jlmomp = ['y','n']"
   ]
  },
  {
   "cell_type": "code",
   "execution_count": null,
   "metadata": {},
   "outputs": [],
   "source": [
    "# make combinations that are allowed - forget the rest\n",
    "global_params = [ldmodel_glob, strength_glob, alphaomp_glob, jlmomp]\n",
    "micro_params  = [ldmodel_micro, strength_micro, alphaomp_micro, jlmomp]\n",
    "\n",
    "global_combos = list(itertools.product(*global_params))\n",
    "micro_combos  = list(itertools.product(*micro_params))\n",
    "\n",
    "# all_combos = global_combos\n",
    "all_combos = global_combos + micro_combos"
   ]
  },
  {
   "cell_type": "code",
   "execution_count": null,
   "metadata": {},
   "outputs": [],
   "source": [
    "# start with energies in 'all' dataframe\n",
    "ag_talys_all_df = pd.DataFrame(ene_kad)\n",
    "an_talys_all_df = pd.DataFrame(ene_kad)\n",
    "col_names = ['ene']"
   ]
  },
  {
   "cell_type": "markdown",
   "metadata": {},
   "source": [
    "## Talys Loop"
   ]
  },
  {
   "cell_type": "code",
   "execution_count": null,
   "metadata": {},
   "outputs": [],
   "source": [
    "# for tracking purposes\n",
    "total_iter = len(all_combos)\n",
    "current_iter = 1\n",
    "\n",
    "for combo in all_combos:\n",
    "\n",
    "    # get model parameters\n",
    "    l = combo[0]\n",
    "    s = combo[1]\n",
    "    a = combo[2]\n",
    "    j = combo[3]\n",
    "    \n",
    "    # make column name\n",
    "    col_name = 'l'+str(l)+'s'+str(s)+'a'+str(a)+'j'+j\n",
    "    col_names.append(col_name)\n",
    "\n",
    "    # print progress\n",
    "    print('({}/{}) --- Running {}...'.format(current_iter, total_iter, col_name))\n",
    "\n",
    "    # write input file contents\n",
    "    top = 'projectile a\\nelement '+symbol+'\\nmass '+str(mass)+'\\nenergy energies\\n'\n",
    "    mid = 'ldmodel '+str(l)+'\\nstrength '+str(s)+'\\nalphaomp '+str(a)+'\\njlmomp '+j+'\\n'\n",
    "    bottom1 = 'segment 3\\nxseps 1.e-35\\npopeps 1.e-35\\ntranseps 1.e-35\\n'\n",
    "    bottom2 = 'cbreak p 0.\\ncbreak n 0.\\ncstrip p 0.\\ncstrip n 0.\\ncknock p 0.\\ncknock n 0.\\ngnorm 1'\n",
    "\n",
    "    \n",
    "    # actually write input file\n",
    "    f = open('input', 'w')\n",
    "    f.write(top+mid+bottom1+bottom2)\n",
    "    f.close()\n",
    "\n",
    "    # run talys\n",
    "    !talys <input> output\n",
    "\n",
    "    # concatenate current frame to \"all\" frame\n",
    "    ag_talys_all_df = pd.concat([ag_talys_all_df, get_talys_df(ag_talys_file)['cs']], axis=1)\n",
    "    an_talys_all_df = pd.concat([an_talys_all_df, get_talys_df(an_talys_file)['cs']], axis=1)\n",
    "\n",
    "    # update iter count\n",
    "    current_iter = current_iter + 1\n",
    "         \n",
    "# clean file system\n",
    "clean_files()"
   ]
  },
  {
   "cell_type": "code",
   "execution_count": null,
   "metadata": {},
   "outputs": [],
   "source": [
    "# rename columns\n",
    "ag_talys_all_df.columns = col_names\n",
    "an_talys_all_df.columns = col_names\n",
    "print(ag_talys_all_df)\n",
    "print(an_talys_all_df)"
   ]
  },
  {
   "cell_type": "code",
   "execution_count": null,
   "metadata": {},
   "outputs": [],
   "source": [
    "an_talys_all_df.drop('ene',axis=1).plot(logy=True)"
   ]
  },
  {
   "cell_type": "code",
   "execution_count": null,
   "metadata": {},
   "outputs": [],
   "source": [
    "# merge talys (all_df) with kadonis\n",
    "# ag_mega_df = pd.concat([ag_kad_df, ag_talys_all_df],axis=1).dropna()\n",
    "# an_mega_df = pd.concat([an_kad_df, an_talys_all_df],axis=1).dropna()\n",
    "ag_mega_df = pd.concat([ag_kad_df, ag_talys_all_df],axis=1)\n",
    "an_mega_df = pd.concat([an_kad_df, an_talys_all_df],axis=1)"
   ]
  },
  {
   "cell_type": "code",
   "execution_count": null,
   "metadata": {},
   "outputs": [],
   "source": [
    "# strip duplicate ene column and set index to 'ene'\n",
    "ag_mega_df = ag_mega_df.iloc[:,~ag_mega_df.columns.duplicated()].set_index('ene')\n",
    "an_mega_df = an_mega_df.iloc[:,~an_mega_df.columns.duplicated()].set_index('ene')"
   ]
  },
  {
   "cell_type": "code",
   "execution_count": null,
   "metadata": {},
   "outputs": [],
   "source": [
    "# sanity check\n",
    "print(ag_mega_df)\n",
    "print(an_mega_df)"
   ]
  },
  {
   "cell_type": "markdown",
   "metadata": {},
   "source": [
    "# Plotting (all)"
   ]
  },
  {
   "cell_type": "markdown",
   "metadata": {},
   "source": [
    "## Alpha-Gamma (kadonis + all talys)"
   ]
  },
  {
   "cell_type": "code",
   "execution_count": null,
   "metadata": {},
   "outputs": [],
   "source": [
    "# plot styling\n",
    "style_plot()\n",
    "\n",
    "# plot data\n",
    "ag_mega_df.drop(['cs_kadonis','cs_err'], axis=1).plot(logy=True, legend=None)\n",
    "plt.errorbar(ag_mega_df.index, ag_mega_df['cs_kadonis'], yerr=ag_mega_df['cs_err'])\n",
    "\n",
    "plt.title('Alpha-Gamma Reaction')\n",
    "plt.xlabel('Energy (MeV)')\n",
    "plt.ylabel('Cross Section (millibarns)')"
   ]
  },
  {
   "cell_type": "markdown",
   "metadata": {},
   "source": [
    "## Alpha-N (kadonis + all talys)"
   ]
  },
  {
   "cell_type": "code",
   "execution_count": null,
   "metadata": {},
   "outputs": [],
   "source": [
    "style_plot()\n",
    "\n",
    "# plot data\n",
    "an_mega_df.drop(['cs_kadonis','cs_err'], axis=1).plot(logy=True, legend=None)\n",
    "plt.errorbar(an_mega_df.index, an_mega_df['cs_kadonis'], yerr=an_mega_df['cs_err'])\n",
    "\n",
    "plt.title('Alpha-N Reaction')\n",
    "plt.xlabel('Energy (MeV)')\n",
    "plt.ylabel('Cross Section (millibarns)')"
   ]
  },
  {
   "cell_type": "markdown",
   "metadata": {},
   "source": [
    "# Chi-Square Test (Goodness-of-Fit)"
   ]
  },
  {
   "cell_type": "code",
   "execution_count": null,
   "metadata": {},
   "outputs": [],
   "source": [
    "def chi_square(observed, expected):\n",
    "    return sum([((o-e)**2)/e for o, e in zip(observed,expected)])"
   ]
  },
  {
   "cell_type": "code",
   "execution_count": null,
   "metadata": {},
   "outputs": [],
   "source": [
    "def chi_square_min(df):\n",
    "    chi_square_values = []\n",
    "    for col in df.drop(['cs_kadonis','cs_err'],axis=1).columns:\n",
    "        chi_square_values.append(chi_square(df[col],df['cs_kadonis']))\n",
    "    return(col_names[1:][chi_square_values.index(min(chi_square_values))])"
   ]
  },
  {
   "cell_type": "markdown",
   "metadata": {},
   "source": [
    "# Plotting (best only)"
   ]
  },
  {
   "cell_type": "markdown",
   "metadata": {},
   "source": [
    "## Alpha-Gamma (kadonis + best talys)"
   ]
  },
  {
   "cell_type": "code",
   "execution_count": null,
   "metadata": {},
   "outputs": [],
   "source": [
    "style_plot()\n",
    "\n",
    "print('Best Talys Combination: {}'.format(chi_square_min(ag_mega_df)))\n",
    "\n",
    "# plot data\n",
    "ag_mega_df[chi_square_min(ag_mega_df)].plot(logy=True)\n",
    "plt.errorbar(ag_mega_df.index, ag_mega_df['cs_kadonis'], yerr=ag_mega_df['cs_err'])\n",
    "\n",
    "plt.title('Alpha-Gamma Reaction')\n",
    "plt.xlabel('Energy (MeV)')\n",
    "plt.ylabel('Cross Section (millibarns)')"
   ]
  },
  {
   "cell_type": "markdown",
   "metadata": {},
   "source": [
    "## Alpha-N (kadonis + best talys)"
   ]
  },
  {
   "cell_type": "code",
   "execution_count": null,
   "metadata": {},
   "outputs": [],
   "source": [
    "style_plot()\n",
    "\n",
    "print('Best Talys Combination: {}'.format(chi_square_min(an_mega_df)))\n",
    "\n",
    "# plot data\n",
    "an_mega_df[chi_square_min(an_mega_df)].plot(logy=True)\n",
    "plt.errorbar(an_mega_df.index, an_mega_df['cs_kadonis'], yerr=an_mega_df['cs_err'])\n",
    "\n",
    "plt.title('Alpha-N Reaction')\n",
    "plt.xlabel('Energy (MeV)')\n",
    "plt.ylabel('Cross Section (millibarns)')"
   ]
  }
 ],
 "metadata": {
  "kernelspec": {
   "display_name": "Python 3",
   "language": "python",
   "name": "python3"
  },
  "language_info": {
   "codemirror_mode": {
    "name": "ipython",
    "version": 3
   },
   "file_extension": ".py",
   "mimetype": "text/x-python",
   "name": "python",
   "nbconvert_exporter": "python",
   "pygments_lexer": "ipython3",
   "version": "3.6.4"
  }
 },
 "nbformat": 4,
 "nbformat_minor": 2
}
