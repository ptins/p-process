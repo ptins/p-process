{
 "cells": [
  {
   "cell_type": "markdown",
   "metadata": {},
   "source": [
    "### read in kadonis data"
   ]
  },
  {
   "cell_type": "code",
   "execution_count": 1,
   "metadata": {},
   "outputs": [],
   "source": [
    "import os, glob\n",
    "import numpy as np\n",
    "import pandas as pd\n",
    "\n",
    "import plotly\n",
    "import plotly.plotly as py\n",
    "\n",
    "import json\n",
    "import requests\n",
    "from requests.auth import HTTPBasicAuth"
   ]
  },
  {
   "cell_type": "code",
   "execution_count": 2,
   "metadata": {},
   "outputs": [],
   "source": [
    "ag_kad_file = './kad_files/113In-ag-YGO09'\n",
    "an_kad_file = './kad_files/113In-an-YGO09'"
   ]
  },
  {
   "cell_type": "code",
   "execution_count": 3,
   "metadata": {},
   "outputs": [],
   "source": [
    "def get_kadonis_df(filename):\n",
    "    # open kadonis file\n",
    "    f = open(filename,'r')\n",
    "    # read lines and close\n",
    "    lines = f.read().splitlines()\n",
    "    f.close()\n",
    "    # strip out lines we want\n",
    "    lines_imp = lines[19:]\n",
    "    x = [line.split() for line in lines_imp]\n",
    "    # get column labels, column data\n",
    "    headers = x[0]\n",
    "    data = x[2:]\n",
    "    # convert to df\n",
    "    df = pd.DataFrame(data, columns=headers)\n",
    "    # make numeric\n",
    "    ene  = pd.to_numeric(df['E(c.m.)'])\n",
    "    cs_true = pd.to_numeric(df['CS'])\n",
    "    cs_err  = pd.to_numeric(df['ErrCS'])\n",
    "    # new df  \n",
    "    df_new  = pd.DataFrame([ene, cs_true, cs_err]).transpose()\n",
    "    df_new.columns = ['ene', 'exp_cs', 'cs_err']\n",
    "    df_new = df_new.sort_values('ene', ascending=True)\n",
    "    return(df_new)"
   ]
  },
  {
   "cell_type": "code",
   "execution_count": 4,
   "metadata": {},
   "outputs": [
    {
     "name": "stdout",
     "output_type": "stream",
     "text": [
      "       ene    exp_cs        cs_err\n",
      "0    8.660  0.000004  5.000000e-07\n",
      "2    9.147  0.000007  6.000000e-07\n",
      "1    9.153  0.000006  6.000000e-07\n",
      "3    9.553  0.000015  1.000000e-06\n",
      "4    9.660  0.000020  2.000000e-06\n",
      "5   10.187  0.000037  3.000000e-06\n",
      "6   10.606  0.000064  5.000000e-06\n",
      "7   10.704  0.000070  6.000000e-06\n",
      "8   11.085  0.000111  9.000000e-06\n",
      "9   11.573  0.000200  1.600000e-05\n",
      "10  12.162  0.000341  2.800000e-05\n",
      "11  12.536  0.000435  3.500000e-05\n",
      "12  13.018  0.000588  4.700000e-05\n",
      "13  13.640  0.000745  6.000000e-05\n",
      "      ene   exp_cs   cs_err\n",
      "0   9.660  0.00007  0.00002\n",
      "1  10.187  0.00027  0.00004\n",
      "2  10.606  0.00082  0.00007\n",
      "3  10.704  0.00100  0.00008\n",
      "4  11.085  0.00210  0.00020\n",
      "5  11.573  0.00600  0.00050\n",
      "6  12.162  0.01300  0.00100\n",
      "7  12.536  0.02500  0.00200\n",
      "8  13.018  0.05000  0.00400\n",
      "9  13.640  0.08800  0.00600\n"
     ]
    }
   ],
   "source": [
    "ag_kad_df = get_kadonis_df(ag_kad_file)\n",
    "an_kad_df = get_kadonis_df(an_kad_file)\n",
    "print(ag_kad_df)\n",
    "print(an_kad_df)"
   ]
  },
  {
   "cell_type": "markdown",
   "metadata": {},
   "source": [
    "### start talys stuff"
   ]
  },
  {
   "cell_type": "code",
   "execution_count": 5,
   "metadata": {},
   "outputs": [],
   "source": [
    "symbol = 'in'\n",
    "mass = 113\n",
    "z = 49"
   ]
  },
  {
   "cell_type": "code",
   "execution_count": 6,
   "metadata": {},
   "outputs": [
    {
     "data": {
      "text/plain": [
       "[8.66,\n",
       " 9.147,\n",
       " 9.153,\n",
       " 9.553,\n",
       " 9.66,\n",
       " 10.187,\n",
       " 10.606,\n",
       " 10.704,\n",
       " 11.085,\n",
       " 11.573,\n",
       " 12.162,\n",
       " 12.536,\n",
       " 13.018,\n",
       " 13.64]"
      ]
     },
     "execution_count": 6,
     "metadata": {},
     "output_type": "execute_result"
    }
   ],
   "source": [
    "# write ag_energies file\n",
    "ene_kad = []\n",
    "[ene_kad.append(round(ene,4)) for ene in ag_kad_df['ene']]\n",
    "[ene_kad.append(round(ene,4)) for ene in an_kad_df['ene']]\n",
    "ene_kad = sorted(list(set(ene_kad)))\n",
    "ene_kad"
   ]
  },
  {
   "cell_type": "code",
   "execution_count": 7,
   "metadata": {},
   "outputs": [],
   "source": [
    "f = open('energies','w')\n",
    "[f.write(str(ene)+'\\n') for ene in ene_kad]\n",
    "f.close()"
   ]
  },
  {
   "cell_type": "code",
   "execution_count": 8,
   "metadata": {},
   "outputs": [],
   "source": [
    "def get_talys_df(filename):\n",
    "    f = open(filename,'r')\n",
    "    # read lines and close\n",
    "    lines = f.read().splitlines()\n",
    "    f.close()\n",
    "    # strip out lines we want\n",
    "    lines_imp = lines[5:]\n",
    "    x = [line.strip().split(' ') for line in lines_imp]\n",
    "    df = pd.DataFrame(x)\n",
    "    df.columns = ['ene','cs']\n",
    "    # make numeric \n",
    "    df  = pd.DataFrame([pd.to_numeric(df['ene']),\n",
    "                        # convert millibarns\n",
    "                        pd.to_numeric(df['cs'])/1000]).transpose()\n",
    "    return(df)"
   ]
  },
  {
   "cell_type": "code",
   "execution_count": 9,
   "metadata": {},
   "outputs": [],
   "source": [
    "ag_talys_file = 'rp0'+str(z+2)+str(mass+4)+'.tot'\n",
    "an_talys_file = 'rp0'+str(z+2)+str(mass+3)+'.tot'"
   ]
  },
  {
   "cell_type": "code",
   "execution_count": 10,
   "metadata": {},
   "outputs": [],
   "source": [
    "# ldmodel = [1,2,3,4,5,6]\n",
    "# strength = [1,2,3,4,5,6,7,8]\n",
    "# alphaomp = [1,2,3,4,5,6,7,8]\n",
    "ldmodel = [1,2]\n",
    "strength = [1,2]\n",
    "alphaomp = [1,2]\n",
    "jlmomp = ['y','n']\n",
    "\n",
    "ag_talys_all_df = pd.DataFrame(ene_kad)\n",
    "an_talys_all_df = pd.DataFrame(ene_kad)"
   ]
  },
  {
   "cell_type": "code",
   "execution_count": 11,
   "metadata": {},
   "outputs": [
    {
     "name": "stdout",
     "output_type": "stream",
     "text": [
      "Starting l1s1a1jy\n",
      "Input file created.\n",
      "Running talys...\n",
      "Done with l1s1a1jy\n",
      "\n",
      "PROGRESS UPDATE: 6.25%\n",
      "\n",
      "Starting l1s1a1jn\n",
      "Input file created.\n",
      "Running talys...\n",
      "Done with l1s1a1jn\n",
      "\n",
      "PROGRESS UPDATE: 12.5%\n",
      "\n",
      "Starting l1s1a2jy\n",
      "Input file created.\n",
      "Running talys...\n",
      "Done with l1s1a2jy\n",
      "\n",
      "PROGRESS UPDATE: 18.75%\n",
      "\n",
      "Starting l1s1a2jn\n",
      "Input file created.\n",
      "Running talys...\n",
      "Done with l1s1a2jn\n",
      "\n",
      "PROGRESS UPDATE: 25.0%\n",
      "\n",
      "Starting l1s2a1jy\n",
      "Input file created.\n",
      "Running talys...\n",
      "Done with l1s2a1jy\n",
      "\n",
      "PROGRESS UPDATE: 31.25%\n",
      "\n",
      "Starting l1s2a1jn\n",
      "Input file created.\n",
      "Running talys...\n",
      "Done with l1s2a1jn\n",
      "\n",
      "PROGRESS UPDATE: 37.5%\n",
      "\n",
      "Starting l1s2a2jy\n",
      "Input file created.\n",
      "Running talys...\n",
      "Done with l1s2a2jy\n",
      "\n",
      "PROGRESS UPDATE: 43.75%\n",
      "\n",
      "Starting l1s2a2jn\n",
      "Input file created.\n",
      "Running talys...\n",
      "Done with l1s2a2jn\n",
      "\n",
      "PROGRESS UPDATE: 50.0%\n",
      "\n",
      "Starting l2s1a1jy\n",
      "Input file created.\n",
      "Running talys...\n",
      "Done with l2s1a1jy\n",
      "\n",
      "PROGRESS UPDATE: 56.25%\n",
      "\n",
      "Starting l2s1a1jn\n",
      "Input file created.\n",
      "Running talys...\n",
      "Done with l2s1a1jn\n",
      "\n",
      "PROGRESS UPDATE: 62.5%\n",
      "\n",
      "Starting l2s1a2jy\n",
      "Input file created.\n",
      "Running talys...\n",
      "Done with l2s1a2jy\n",
      "\n",
      "PROGRESS UPDATE: 68.75%\n",
      "\n",
      "Starting l2s1a2jn\n",
      "Input file created.\n",
      "Running talys...\n",
      "Done with l2s1a2jn\n",
      "\n",
      "PROGRESS UPDATE: 75.0%\n",
      "\n",
      "Starting l2s2a1jy\n",
      "Input file created.\n",
      "Running talys...\n",
      "Done with l2s2a1jy\n",
      "\n",
      "PROGRESS UPDATE: 81.25%\n",
      "\n",
      "Starting l2s2a1jn\n",
      "Input file created.\n",
      "Running talys...\n",
      "Done with l2s2a1jn\n",
      "\n",
      "PROGRESS UPDATE: 87.5%\n",
      "\n",
      "Starting l2s2a2jy\n",
      "Input file created.\n",
      "Running talys...\n",
      "Done with l2s2a2jy\n",
      "\n",
      "PROGRESS UPDATE: 93.75%\n",
      "\n",
      "Starting l2s2a2jn\n",
      "Input file created.\n",
      "Running talys...\n",
      "Done with l2s2a2jn\n",
      "\n",
      "PROGRESS UPDATE: 100.0%\n",
      "\n",
      "Done with all talys calculations.\n",
      "Cleaning file system...\n",
      "Done cleaning files.\n"
     ]
    }
   ],
   "source": [
    "col_names = ['ene']\n",
    "\n",
    "num_iter = len(ldmodel)*len(strength)*len(alphaomp)*len(jlmomp)\n",
    "iters_done = 0\n",
    "\n",
    "for l in ldmodel:\n",
    "    for s in strength:\n",
    "        for a in alphaomp:\n",
    "            for j in jlmomp:\n",
    "\n",
    "                # make column name\n",
    "                col_name = 'l'+str(l)+'s'+str(s)+'a'+str(a)+'j'+j\n",
    "                col_names.append(col_name)\n",
    "                \n",
    "                print('Starting {}'.format(col_name))\n",
    "                \n",
    "                # write input file contents\n",
    "                top = 'projectile a\\nelement '+symbol+'\\nmass '+str(mass)+'\\nenergy energies\\n'\n",
    "                mid = 'ldmodel '+str(l)+'\\nstrength '+str(s)+'\\nalphaomp '+str(a)+'\\njlmomp '+j+'\\n'\n",
    "                bottom = 'xseps 1.e-35\\npopeps 1.e-35\\ntranseps 1.e-35\\ncbreak p 0.\\ncbreak n 0.\\ncstrip p 0.\\ncstrip n 0.\\ncknock p 0.\\ncknock n 0.\\ngnorm 1'\n",
    "                \n",
    "                # actually write input file\n",
    "                f = open('input', 'w')\n",
    "                f.write(top+mid+bottom)\n",
    "                f.close()\n",
    "\n",
    "                print('Input file created.\\nRunning talys...')\n",
    "                \n",
    "                # run talys\n",
    "                !talys <input> output\n",
    "\n",
    "                print('Done with {}\\n'.format(col_name))\n",
    "                 \n",
    "                # concatenate\n",
    "                ag_talys_all_df = pd.concat([ag_talys_all_df, get_talys_df(ag_talys_file)['cs']], axis=1)\n",
    "                an_talys_all_df = pd.concat([an_talys_all_df, get_talys_df(an_talys_file)['cs']], axis=1)\n",
    "                \n",
    "                iters_done = iters_done + 1\n",
    "                print('PROGRESS UPDATE: {}%\\n'.format((iters_done/num_iter)*100))\n",
    "            \n",
    "                \n",
    "print('Done with all talys calculations.\\nCleaning file system...')\n",
    "\n",
    "keeping = [ag_talys_file, an_talys_file, 'output', 'total.tot', '113-indium.ipynb']\n",
    "files = [f for f in os.listdir('.') if os.path.isfile(f)]\n",
    "for f in files:\n",
    "    if(f not in keeping):\n",
    "        os.remove(f)\n",
    "\n",
    "print('Done cleaning files.')"
   ]
  },
  {
   "cell_type": "code",
   "execution_count": 12,
   "metadata": {},
   "outputs": [],
   "source": [
    "ag_talys_all_df.columns = col_names\n",
    "an_talys_all_df.columns = col_names"
   ]
  },
  {
   "cell_type": "code",
   "execution_count": 13,
   "metadata": {},
   "outputs": [],
   "source": [
    "# merge talys with kadonis\n",
    "ag_mega_df = pd.merge_asof(ag_talys_all_df, ag_kad_df).dropna().set_index('ene')\n",
    "an_mega_df = pd.merge_asof(an_talys_all_df, an_kad_df).dropna().set_index('ene')"
   ]
  },
  {
   "cell_type": "code",
   "execution_count": 18,
   "metadata": {},
   "outputs": [],
   "source": [
    "def rmse(predictions, targets):\n",
    "    return np.sqrt(((predictions - targets) ** 2).mean())"
   ]
  },
  {
   "cell_type": "code",
   "execution_count": 45,
   "metadata": {},
   "outputs": [
    {
     "name": "stdout",
     "output_type": "stream",
     "text": [
      "Following parameters yield lowest RMSE:\n",
      "* * * * * * * * * * * * * * * * * * * *\n",
      "ldmodel: 2\n",
      "strength: 1\n",
      "alphaomp: 2\n",
      "jlmomp: y\n"
     ]
    }
   ],
   "source": [
    "rmse_vals = []\n",
    "for col in ag_mega_df.drop('cs_err',axis=1):\n",
    "    predictions = ag_mega_df[col].values\n",
    "    targets = ag_mega_df['cs_err']\n",
    "    rmse_vals.append(rmse(predictions,targets))\n",
    "lowest_rmse = ag_mega_df.columns[rmse_vals.index(min(rmse_vals))]\n",
    "ld = lowest_rmse[1]\n",
    "st = lowest_rmse[3]\n",
    "al = lowest_rmse[5]\n",
    "jl = lowest_rmse[7]\n",
    "print('Following parameters yield lowest RMSE:\\n* * * * * * * * * * * * * * * * * * * *\\nldmodel: {}\\nstrength: {}\\nalphaomp: {}\\njlmomp: {}'.format(ld, st, al, jl))"
   ]
  },
  {
   "cell_type": "markdown",
   "metadata": {},
   "source": [
    "### plotting"
   ]
  },
  {
   "cell_type": "code",
   "execution_count": 15,
   "metadata": {},
   "outputs": [],
   "source": [
    "def clear_plotly():\n",
    "    username = 'ptinsley' # Replace with YOUR USERNAME\n",
    "    api_key = 'zAX8msTnvXRmY2PcMcSE' # Replace with YOUR API KEY\n",
    "    auth = HTTPBasicAuth(username, api_key)\n",
    "    headers = {'Plotly-Client-Platform': 'python'}\n",
    "    plotly.tools.set_credentials_file(username=username, api_key=api_key)\n",
    "    def get_pages(username, page_size):\n",
    "        url = 'https://api.plot.ly/v2/folders/all?user='+username+'&page_size='+str(page_size)\n",
    "        response = requests.get(url, auth=auth, headers=headers)\n",
    "        if response.status_code != 200:\n",
    "            return\n",
    "        page = json.loads(response.content)\n",
    "        yield page\n",
    "        while True:\n",
    "            resource = page['children']['next'] \n",
    "            if not resource:\n",
    "                break\n",
    "            response = requests.get(resource, auth=auth, headers=headers)\n",
    "            if response.status_code != 200:\n",
    "                break\n",
    "            page = json.loads(response.content)\n",
    "            yield page\n",
    "    def permanently_delete_files(username, page_size=500, filetype_to_delete='plot'):\n",
    "        for page in get_pages(username, page_size):\n",
    "            for x in range(0, len(page['children']['results'])):\n",
    "                fid = page['children']['results'][x]['fid']\n",
    "                res = requests.get('https://api.plot.ly/v2/files/' + fid, auth=auth, headers=headers)\n",
    "                res.raise_for_status()\n",
    "                if res.status_code == 200:\n",
    "                    json_res = json.loads(res.content)\n",
    "                    if json_res['filetype'] == filetype_to_delete:\n",
    "                        # move to trash\n",
    "                        requests.post('https://api.plot.ly/v2/files/'+fid+'/trash', auth=auth, headers=headers)\n",
    "                        # permanently delete\n",
    "                        requests.delete('https://api.plot.ly/v2/files/'+fid+'/permanent_delete', auth=auth, headers=headers)\n",
    "    permanently_delete_files('ptinsley', filetype_to_delete='plot')\n",
    "    permanently_delete_files('ptinsley', filetype_to_delete='grid')"
   ]
  }
 ],
 "metadata": {
  "kernelspec": {
   "display_name": "Python 3",
   "language": "python",
   "name": "python3"
  },
  "language_info": {
   "codemirror_mode": {
    "name": "ipython",
    "version": 3
   },
   "file_extension": ".py",
   "mimetype": "text/x-python",
   "name": "python",
   "nbconvert_exporter": "python",
   "pygments_lexer": "ipython3",
   "version": "3.6.4"
  }
 },
 "nbformat": 4,
 "nbformat_minor": 2
}
