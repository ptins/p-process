{
 "cells": [
  {
   "cell_type": "markdown",
   "metadata": {},
   "source": [
    "### read in kadonis data"
   ]
  },
  {
   "cell_type": "code",
   "execution_count": null,
   "metadata": {},
   "outputs": [],
   "source": [
    "import os, glob\n",
    "import numpy as np\n",
    "import pandas as pd\n",
    "\n",
    "import plotly\n",
    "import plotly.plotly as py\n",
    "\n",
    "import matplotlib as mpl\n",
    "import matplotlib.pyplot as plt\n",
    "\n",
    "import cufflinks as cf\n",
    "\n",
    "cf.go_offline()\n",
    "py.sign_in('ptinsley', 'zAX8msTnvXRmY2PcMcSE')\n",
    "cf.set_config_file(offline=False, theme='white')\n",
    "\n",
    "import time"
   ]
  },
  {
   "cell_type": "code",
   "execution_count": null,
   "metadata": {},
   "outputs": [],
   "source": [
    "ag_kad_file = './kad_files/113In-ag-YGO09'\n",
    "an_kad_file = './kad_files/113In-an-YGO09'"
   ]
  },
  {
   "cell_type": "code",
   "execution_count": null,
   "metadata": {},
   "outputs": [],
   "source": [
    "def get_kadonis_df(filename):\n",
    "    # open kadonis file\n",
    "    f = open(filename,'r')\n",
    "    # read lines and close\n",
    "    lines = f.read().splitlines()\n",
    "    f.close()\n",
    "    # strip out lines we want\n",
    "    lines_imp = lines[19:]\n",
    "    x = [line.split() for line in lines_imp]\n",
    "    # get column labels, column data\n",
    "    headers = x[0]\n",
    "    data = x[2:]\n",
    "    # convert to df\n",
    "    df = pd.DataFrame(data, columns=headers)\n",
    "    # make numeric\n",
    "    ene  = pd.to_numeric(df['E(c.m.)'])\n",
    "    cs_true = pd.to_numeric(df['CS'])\n",
    "    cs_err  = pd.to_numeric(df['ErrCS'])\n",
    "    # new df  \n",
    "    df_new  = pd.DataFrame([ene, cs_true, cs_err]).transpose()\n",
    "    df_new.columns = ['ene', 'cs_kadonis', 'cs_err']\n",
    "    df_new = df_new.sort_values('ene', ascending=True)\n",
    "    return(df_new)"
   ]
  },
  {
   "cell_type": "code",
   "execution_count": null,
   "metadata": {},
   "outputs": [],
   "source": [
    "ag_kad_df = get_kadonis_df(ag_kad_file)\n",
    "an_kad_df = get_kadonis_df(an_kad_file)\n",
    "print(ag_kad_df)\n",
    "print(an_kad_df)"
   ]
  },
  {
   "cell_type": "markdown",
   "metadata": {},
   "source": [
    "### start talys stuff"
   ]
  },
  {
   "cell_type": "code",
   "execution_count": null,
   "metadata": {},
   "outputs": [],
   "source": [
    "symbol = 'in'\n",
    "mass = 113\n",
    "z = 49"
   ]
  },
  {
   "cell_type": "code",
   "execution_count": null,
   "metadata": {},
   "outputs": [],
   "source": [
    "# write ag_energies file\n",
    "ene_kad = []\n",
    "[ene_kad.append(round(ene,4)) for ene in ag_kad_df['ene']]\n",
    "[ene_kad.append(round(ene,4)) for ene in an_kad_df['ene']]\n",
    "ene_kad = sorted(list(set(ene_kad)))\n",
    "# ene_kad"
   ]
  },
  {
   "cell_type": "code",
   "execution_count": null,
   "metadata": {},
   "outputs": [],
   "source": [
    "f = open('energies','w')\n",
    "[f.write(str(ene)+'\\n') for ene in ene_kad]\n",
    "f.close()"
   ]
  },
  {
   "cell_type": "code",
   "execution_count": null,
   "metadata": {},
   "outputs": [],
   "source": [
    "def get_talys_df(filename):\n",
    "    f = open(filename,'r')\n",
    "    # read lines and close\n",
    "    lines = f.read().splitlines()\n",
    "    f.close()\n",
    "    # strip out lines we want\n",
    "    lines_imp = lines[5:]\n",
    "    x = [line.strip().split(' ') for line in lines_imp]\n",
    "    df = pd.DataFrame(x)\n",
    "    df.columns = ['ene','cs']\n",
    "    # make numeric \n",
    "    df  = pd.DataFrame([pd.to_numeric(df['ene']),\n",
    "                        # convert millibarns\n",
    "                        pd.to_numeric(df['cs'])/1000]).transpose()\n",
    "    return(df)"
   ]
  },
  {
   "cell_type": "code",
   "execution_count": null,
   "metadata": {},
   "outputs": [],
   "source": [
    "ag_talys_file = 'rp0'+str(z+2)+str(mass+4)+'.tot'\n",
    "an_talys_file = 'rp0'+str(z+2)+str(mass+3)+'.tot'"
   ]
  },
  {
   "cell_type": "code",
   "execution_count": null,
   "metadata": {},
   "outputs": [],
   "source": [
    "ldmodel = [1,2,3,4,5,6]\n",
    "strength = [1,2,3,4,5,6,7,8]\n",
    "alphaomp = [1,2,3,4,5,6,7,8]\n",
    "jlmomp = ['y','n']\n",
    "# ldmodel = [1,2,3]\n",
    "# strength = [1,2]\n",
    "# alphaomp = [1]\n",
    "# jlmomp = ['y','n']\n",
    "\n",
    "ag_talys_all_df = pd.DataFrame(ene_kad)\n",
    "an_talys_all_df = pd.DataFrame(ene_kad)"
   ]
  },
  {
   "cell_type": "code",
   "execution_count": null,
   "metadata": {},
   "outputs": [],
   "source": [
    "col_names = ['ene']\n",
    "\n",
    "num_iter = len(ldmodel)*len(strength)*len(alphaomp)*len(jlmomp)\n",
    "iters_done = 0\n",
    "\n",
    "for l in ldmodel:\n",
    "    for s in strength:\n",
    "        for a in alphaomp:\n",
    "            for j in jlmomp:\n",
    "\n",
    "                # set up timing begin\n",
    "                if iters_done==0:\n",
    "                    start = time.time()\n",
    "                \n",
    "                # make column name\n",
    "                col_name = 'l'+str(l)+'s'+str(s)+'a'+str(a)+'j'+j\n",
    "                col_names.append(col_name)\n",
    "                \n",
    "                print('Starting {}'.format(col_name))\n",
    "                \n",
    "                # write input file contents\n",
    "                top = 'projectile a\\nelement '+symbol+'\\nmass '+str(mass)+'\\nenergy energies\\n'\n",
    "                mid = 'ldmodel '+str(l)+'\\nstrength '+str(s)+'\\nalphaomp '+str(a)+'\\njlmomp '+j+'\\n'\n",
    "                bottom = 'xseps 1.e-35\\npopeps 1.e-35\\ntranseps 1.e-35\\ncbreak p 0.\\ncbreak n 0.\\ncstrip p 0.\\ncstrip n 0.\\ncknock p 0.\\ncknock n 0.\\ngnorm 1'\n",
    "                \n",
    "                # actually write input file\n",
    "                f = open('input', 'w')\n",
    "                f.write(top+mid+bottom)\n",
    "                f.close()\n",
    "\n",
    "                print('Input file created.\\nRunning talys...')\n",
    "                \n",
    "                # run talys\n",
    "                !talys <input> output\n",
    "\n",
    "                print('Done with {}\\n'.format(col_name))\n",
    "                 \n",
    "                # concatenate\n",
    "                ag_talys_all_df = pd.concat([ag_talys_all_df, get_talys_df(ag_talys_file)['cs']], axis=1)\n",
    "                an_talys_all_df = pd.concat([an_talys_all_df, get_talys_df(an_talys_file)['cs']], axis=1)\n",
    "                \n",
    "                # set up timing end\n",
    "                if iters_done==0:\n",
    "                    end = time.time()\n",
    "                    print('EXPECTED TOTAL RUNTIME: ~{} seconds, {} minutes, {} hours'.format((end-start)*num_iter, (end-start)*num_iter/60, (end-start)*num_iter/360))\n",
    "                \n",
    "                iters_done = iters_done + 1\n",
    "                print('PROGRESS UPDATE: {}%\\n'.format((iters_done/num_iter)*100))\n",
    "            \n",
    "                \n",
    "print('Done with all talys calculations.\\nCleaning file system...')\n",
    "\n",
    "keeping = [ag_talys_file, an_talys_file, 'output', 'total.tot', '113-indium.ipynb']\n",
    "files = [f for f in os.listdir('.') if os.path.isfile(f)]\n",
    "for f in files:\n",
    "    if(f not in keeping):\n",
    "        os.remove(f)\n",
    "\n",
    "print('Done cleaning files.')"
   ]
  },
  {
   "cell_type": "code",
   "execution_count": null,
   "metadata": {},
   "outputs": [],
   "source": [
    "ag_talys_all_df.columns = col_names\n",
    "an_talys_all_df.columns = col_names"
   ]
  },
  {
   "cell_type": "code",
   "execution_count": null,
   "metadata": {},
   "outputs": [],
   "source": [
    "# merge talys with kadonis\n",
    "ag_mega_df = pd.merge_asof(ag_talys_all_df, ag_kad_df).dropna().set_index('ene')\n",
    "an_mega_df = pd.merge_asof(an_talys_all_df, an_kad_df).dropna().set_index('ene')"
   ]
  },
  {
   "cell_type": "code",
   "execution_count": null,
   "metadata": {},
   "outputs": [],
   "source": [
    "def rmse(predictions, targets):\n",
    "    return np.sqrt(((predictions - targets)**2).mean())"
   ]
  },
  {
   "cell_type": "code",
   "execution_count": null,
   "metadata": {},
   "outputs": [],
   "source": [
    "rmse_vals = []\n",
    "for col in ag_mega_df.drop('cs_err',axis=1):\n",
    "    predictions = ag_mega_df[col].values\n",
    "    targets = ag_mega_df['cs_err']\n",
    "    rmse_vals.append(rmse(predictions,targets))\n",
    "lowest_rmse = ag_mega_df.columns[rmse_vals.index(min(rmse_vals))]\n",
    "ld = lowest_rmse[1]\n",
    "st = lowest_rmse[3]\n",
    "al = lowest_rmse[5]\n",
    "jl = lowest_rmse[7]\n",
    "print('\\nFor alpha-gamma rxn, best combo:\\nldmodel: {}\\nstrength: {}\\nalphaomp: {}\\njlmomp: {}'.format(ld, st, al, jl))\n",
    "\n",
    "print('\\n')\n",
    "\n",
    "rmse_vals = []\n",
    "for col in an_mega_df.drop('cs_err',axis=1):\n",
    "    predictions = an_mega_df[col].values\n",
    "    targets = an_mega_df['cs_err']\n",
    "    rmse_vals.append(rmse(predictions,targets))\n",
    "lowest_rmse = an_mega_df.columns[rmse_vals.index(min(rmse_vals))]\n",
    "ld = lowest_rmse[1]\n",
    "st = lowest_rmse[3]\n",
    "al = lowest_rmse[5]\n",
    "jl = lowest_rmse[7]\n",
    "print('For alpha-n rxn, best combo:\\nldmodel: {}\\nstrength: {}\\nalphaomp: {}\\njlmomp: {}'.format(ld, st, al, jl))"
   ]
  },
  {
   "cell_type": "markdown",
   "metadata": {},
   "source": [
    "### plotting"
   ]
  },
  {
   "cell_type": "markdown",
   "metadata": {},
   "source": [
    "# alpha gamma"
   ]
  },
  {
   "cell_type": "code",
   "execution_count": null,
   "metadata": {},
   "outputs": [],
   "source": [
    "# matplotlib\n",
    "mpl.rcParams['lines.linewidth'] = .85\n",
    "plt.style.use('seaborn-whitegrid')\n",
    "plt.rcParams[\"figure.figsize\"] = (20,10)\n",
    "ag_mega_df.drop(['cs_kadonis','cs_err'], axis=1).plot(logy=True)\n",
    "plt.title('Alpha-Gamma')\n",
    "plt.xlabel('Energy (MeV)')\n",
    "plt.ylabel('Cross Section (millibarns)')\n",
    "plt.errorbar(ag_mega_df.index, ag_mega_df['cs_kadonis'], yerr=ag_mega_df['cs_err'])"
   ]
  },
  {
   "cell_type": "code",
   "execution_count": null,
   "metadata": {},
   "outputs": [],
   "source": [
    "# cufflinks\n",
    "ag_mega_df.drop(['cs_kadonis','cs_err'], axis=1).iplot(logy=True)\n",
    "ag_mega_df['cs_kadonis'].iplot(logy=True, error_y=list(ag_mega_df['cs_err'].values))\n",
    "ag_mega_df.drop('cs_err', axis=1).iplot(logy=True)"
   ]
  },
  {
   "cell_type": "markdown",
   "metadata": {},
   "source": [
    "# alpha n"
   ]
  },
  {
   "cell_type": "code",
   "execution_count": null,
   "metadata": {},
   "outputs": [],
   "source": [
    "# matplotlib\n",
    "mpl.rcParams['lines.linewidth'] = .85\n",
    "plt.style.use('seaborn-whitegrid')\n",
    "plt.rcParams[\"figure.figsize\"] = (20,10)\n",
    "an_mega_df.drop(['cs_kadonis','cs_err'], axis=1).plot(logy=True)\n",
    "plt.title('Alpha-N')\n",
    "plt.xlabel('Energy (MeV)')\n",
    "plt.ylabel('Cross Section (millibarns)')\n",
    "plt.errorbar(an_mega_df.index, an_mega_df['cs_kadonis'], yerr=an_mega_df['cs_err'])"
   ]
  },
  {
   "cell_type": "code",
   "execution_count": null,
   "metadata": {},
   "outputs": [],
   "source": [
    "# cufflinks\n",
    "an_mega_df.drop(['cs_kadonis','cs_err'], axis=1).iplot(logy=True)\n",
    "an_mega_df['cs_kadonis'].iplot(logy=True, error_y=list(an_mega_df['cs_err'].values))\n",
    "an_mega_df.drop('cs_err', axis=1).iplot(logy=True)"
   ]
  }
 ],
 "metadata": {
  "kernelspec": {
   "display_name": "Python 3",
   "language": "python",
   "name": "python3"
  },
  "language_info": {
   "codemirror_mode": {
    "name": "ipython",
    "version": 3
   },
   "file_extension": ".py",
   "mimetype": "text/x-python",
   "name": "python",
   "nbconvert_exporter": "python",
   "pygments_lexer": "ipython3",
   "version": "3.6.4"
  }
 },
 "nbformat": 4,
 "nbformat_minor": 2
}
