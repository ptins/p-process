{
 "cells": [
  {
   "cell_type": "markdown",
   "metadata": {},
   "source": [
    "### read in kadonis data"
   ]
  },
  {
   "cell_type": "code",
   "execution_count": 1,
   "metadata": {},
   "outputs": [],
   "source": [
    "import numpy as np\n",
    "import pandas as pd\n",
    "import matplotlib.pyplot as plt"
   ]
  },
  {
   "cell_type": "code",
   "execution_count": 2,
   "metadata": {},
   "outputs": [],
   "source": [
    "file1 = './kadonis/113In-an-YGO09'\n",
    "file2 = './kadonis/113In-ag-YGO09'"
   ]
  },
  {
   "cell_type": "code",
   "execution_count": 3,
   "metadata": {},
   "outputs": [],
   "source": [
    "def get_kadonis_df(filename):\n",
    "    # open kadonis file\n",
    "    f = open(filename,'r')\n",
    "    # read lines and close\n",
    "    lines = f.read().splitlines()\n",
    "    f.close()\n",
    "    # strip out lines we want\n",
    "    lines_imp = lines[19:]\n",
    "    x = [line.split() for line in lines_imp]\n",
    "    # get column labels, column data\n",
    "    headers = x[0]\n",
    "    data = x[2:]\n",
    "    # convert to df\n",
    "    df = pd.DataFrame(data, columns=headers)\n",
    "    # make numeric\n",
    "    ene_cm  = pd.to_numeric(df['E(c.m.)'])\n",
    "    cs_true = pd.to_numeric(df['CS'])\n",
    "    cs_err  = pd.to_numeric(df['ErrCS'])\n",
    "    # new df  \n",
    "    df_new  = pd.DataFrame([ene_cm, cs_true, cs_err]).transpose()\n",
    "    df_new.columns = ['ene_cm', 'cs', 'cs_err']\n",
    "    return(df_new)"
   ]
  },
  {
   "cell_type": "code",
   "execution_count": 4,
   "metadata": {},
   "outputs": [
    {
     "name": "stdout",
     "output_type": "stream",
     "text": [
      "   ene_cm       cs   cs_err\n",
      "0   9.660  0.00007  0.00002\n",
      "1  10.187  0.00027  0.00004\n",
      "2  10.606  0.00082  0.00007\n",
      "3  10.704  0.00100  0.00008\n",
      "4  11.085  0.00210  0.00020\n",
      "5  11.573  0.00600  0.00050\n",
      "6  12.162  0.01300  0.00100\n",
      "7  12.536  0.02500  0.00200\n",
      "8  13.018  0.05000  0.00400\n",
      "9  13.640  0.08800  0.00600\n",
      "    ene_cm        cs        cs_err\n",
      "0    8.660  0.000004  5.000000e-07\n",
      "1    9.153  0.000006  6.000000e-07\n",
      "2    9.147  0.000007  6.000000e-07\n",
      "3    9.553  0.000015  1.000000e-06\n",
      "4    9.660  0.000020  2.000000e-06\n",
      "5   10.187  0.000037  3.000000e-06\n",
      "6   10.606  0.000064  5.000000e-06\n",
      "7   10.704  0.000070  6.000000e-06\n",
      "8   11.085  0.000111  9.000000e-06\n",
      "9   11.573  0.000200  1.600000e-05\n",
      "10  12.162  0.000341  2.800000e-05\n",
      "11  12.536  0.000435  3.500000e-05\n",
      "12  13.018  0.000588  4.700000e-05\n",
      "13  13.640  0.000745  6.000000e-05\n"
     ]
    }
   ],
   "source": [
    "print(get_kadonis_df(file1))\n",
    "print(get_kadonis_df(file2))"
   ]
  },
  {
   "cell_type": "markdown",
   "metadata": {},
   "source": [
    "### start talys stuff"
   ]
  },
  {
   "cell_type": "code",
   "execution_count": 5,
   "metadata": {},
   "outputs": [
    {
     "name": "stdout",
     "output_type": "stream",
     "text": [
      "projectile a\n",
      "element in\n",
      "mass 113\n",
      "energy energies\n",
      "\n"
     ]
    }
   ],
   "source": [
    "symbol = 'in'\n",
    "mass = 113\n",
    "first_block = 'projectile a\\nelement '+symbol+'\\nmass '+str(mass)+'\\nenergy energies\\n'\n",
    "print(first_block)"
   ]
  },
  {
   "cell_type": "code",
   "execution_count": 6,
   "metadata": {},
   "outputs": [
    {
     "name": "stdout",
     "output_type": "stream",
     "text": [
      "ldmodel 1\n",
      "strength 1\n",
      "alphaomp 1\n",
      "jlmomp y\n",
      "\n"
     ]
    }
   ],
   "source": [
    "ldmodel = 1\n",
    "strength = 1\n",
    "alphaomp = 1\n",
    "jlmomp = 'y'\n",
    "\n",
    "second_block = 'ldmodel '+str(ldmodel)+'\\nstrength '+str(strength)+'\\nalphaomp '+str(alphaomp)+'\\njlmomp '+jlmomp+'\\n'\n",
    "print(second_block)"
   ]
  },
  {
   "cell_type": "code",
   "execution_count": 7,
   "metadata": {},
   "outputs": [
    {
     "name": "stdout",
     "output_type": "stream",
     "text": [
      "xseps 1.e-35\n",
      "popeps 1.e-35\n",
      "transeps 1.e-35\n",
      "cbreak p 0.\n",
      "cbreak n 0.\n",
      "cstrip p 0.\n",
      "cstrip n 0.\n",
      "cknock p 0.\n",
      "cknock n 0.\n",
      "gnorm 1\n"
     ]
    }
   ],
   "source": [
    "third_block = 'xseps 1.e-35\\npopeps 1.e-35\\ntranseps 1.e-35\\ncbreak p 0.\\ncbreak n 0.\\ncstrip p 0.\\ncstrip n 0.\\ncknock p 0.\\ncknock n 0.\\ngnorm 1'\n",
    "print(third_block)"
   ]
  },
  {
   "cell_type": "code",
   "execution_count": 8,
   "metadata": {},
   "outputs": [],
   "source": [
    "input_file = open('input_file','w') \n",
    " \n",
    "input_file.write(first_block) \n",
    "input_file.write(second_block)\n",
    "input_file.write(third_block)\n",
    "\n",
    "input_file.close() "
   ]
  },
  {
   "cell_type": "code",
   "execution_count": 10,
   "metadata": {},
   "outputs": [
    {
     "name": "stdout",
     "output_type": "stream",
     "text": [
      "/bin/sh: input_file: No such file or directory\r\n"
     ]
    }
   ],
   "source": [
    "!talys <input_file> output"
   ]
  },
  {
   "cell_type": "code",
   "execution_count": null,
   "metadata": {},
   "outputs": [],
   "source": []
  }
 ],
 "metadata": {
  "kernelspec": {
   "display_name": "Python 3",
   "language": "python",
   "name": "python3"
  },
  "language_info": {
   "codemirror_mode": {
    "name": "ipython",
    "version": 3
   },
   "file_extension": ".py",
   "mimetype": "text/x-python",
   "name": "python",
   "nbconvert_exporter": "python",
   "pygments_lexer": "ipython3",
   "version": "3.6.4"
  }
 },
 "nbformat": 4,
 "nbformat_minor": 2
}
